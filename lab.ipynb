{
 "cells": [
  {
   "attachments": {},
   "cell_type": "markdown",
   "metadata": {},
   "source": [
    "# Importing Pandas and openning the spreadsheet"
   ]
  },
  {
   "cell_type": "code",
   "execution_count": null,
   "metadata": {},
   "outputs": [],
   "source": [
    "import pandas as pd\n",
    "\n",
    "file = pd.read_excel(r'C:\\Users\\Victor\\Desktop\\Articles.xlsx')\n",
    "file['Link Artigo'].dropna(axis = 0) # cleaning rows that does not have links of articles"
   ]
  },
  {
   "attachments": {},
   "cell_type": "markdown",
   "metadata": {},
   "source": [
    "# User's inputs to be compared with the data in the spreadsheet"
   ]
  },
  {
   "cell_type": "code",
   "execution_count": 5,
   "metadata": {},
   "outputs": [],
   "source": [
    "metal_selection = input('Which metal(s) center(s) do you desire? ').split() # type list of str\n",
    "ligand_selection = input('Which ligand(s) do you desire? ').split() # type list of str\n",
    "reaction_selection = input('Which reaction(s) do you desire? ').split() # type list of str\n",
    "journal_selection = input('Which journal(s) do you desire? ').split() # type list of str\n",
    "year_selection = input('Which year(s) of publication do you desire? ').split() # type list of str"
   ]
  },
  {
   "attachments": {},
   "cell_type": "markdown",
   "metadata": {},
   "source": [
    "# Formatting and cleaning the user's inputs"
   ]
  },
  {
   "cell_type": "code",
   "execution_count": 7,
   "metadata": {},
   "outputs": [
    {
     "name": "stdout",
     "output_type": "stream",
     "text": [
      " The metal(s) chosen was/were: ('Ru', 'Ne')\n",
      "      The ligand(s) chosen was/were: ('maam', 'kaka')\n",
      "      The reaction(s) chosen was/were: ('SBWJ', 'MA´Q')\n",
      "      The journal(s) chosen was/were: ('BSNXW',) \n",
      "      The year(s) chosen was/were: (1777,)\n"
     ]
    }
   ],
   "source": [
    "metal_tp = tuple(metal.rstrip(\",.;_#!'&?/ºª°\\n\").capitalize() for metal in metal_selection)\n",
    "ligand_tp = tuple(ligand.rstrip(\",.;_#!'&?/ºª°\\n\").lower() for ligand in ligand_selection)\n",
    "reaction_tp = tuple(reaction.rstrip(\",.;_#!'&?/ºª°\\n\").upper() for reaction in reaction_selection)\n",
    "journal_tp = tuple(journal.rstrip(\",.;_#!'&?/ºª°\").upper() for journal in journal_selection)\n",
    "year_tp = tuple(int(year.rstrip(\",.;_#!'&?/ºª°\\n\")) for year in year_selection)\n",
    "\n",
    "print(f''' The metal(s) chosen was/were: {metal_tp}\n",
    "      The ligand(s) chosen was/were: {ligand_tp}\n",
    "      The reaction(s) chosen was/were: {reaction_tp}\n",
    "      The journal(s) chosen was/were: {journal_tp} \n",
    "      The year(s) chosen was/were: {year_tp}''')"
   ]
  },
  {
   "attachments": {},
   "cell_type": "markdown",
   "metadata": {},
   "source": [
    "# Normalizing the data in the DataFrame"
   ]
  },
  {
   "cell_type": "code",
   "execution_count": null,
   "metadata": {},
   "outputs": [],
   "source": [
    "file_metal = tuple(metal.capitalize() for metal in file['Metal'])\n",
    "file['Metal'] = pd.Series(file_metal)"
   ]
  },
  {
   "cell_type": "code",
   "execution_count": null,
   "metadata": {},
   "outputs": [],
   "source": [
    "file_ligand = tuple(str(ligand).lower() for ligand in file['Ligante'])\n",
    "file['Ligante'] = pd.Series(file_ligand)"
   ]
  },
  {
   "cell_type": "code",
   "execution_count": null,
   "metadata": {},
   "outputs": [],
   "source": [
    "file_reaction = tuple(reaction.upper() for reaction in file['Reação'])\n",
    "file['Reação'] = pd.Series(file_reaction)"
   ]
  },
  {
   "cell_type": "code",
   "execution_count": null,
   "metadata": {},
   "outputs": [],
   "source": [
    "file_journal = tuple(journal.upper() for journal in file['Revista'])\n",
    "file['Revista'] = pd.Series(file_journal)"
   ]
  },
  {
   "cell_type": "code",
   "execution_count": null,
   "metadata": {},
   "outputs": [],
   "source": [
    "file_year = tuple(int(year) for year in file['Ano de publicação'])\n",
    "file['Ano de publicação'] = pd.Series(file_year)"
   ]
  },
  {
   "attachments": {},
   "cell_type": "markdown",
   "metadata": {},
   "source": [
    "# Searching in the DataFrame the links using user's inputs to filtering"
   ]
  },
  {
   "cell_type": "code",
   "execution_count": null,
   "metadata": {},
   "outputs": [],
   "source": [
    "metal_serie = pd.Series(metal_tp)\n",
    "metal_filter = file['Link Artigo'].loc[file.Metal.isin([metal_serie])]"
   ]
  },
  {
   "cell_type": "code",
   "execution_count": null,
   "metadata": {},
   "outputs": [],
   "source": [
    "ligand_serie = pd.Series(ligand_tp)\n",
    "ligand_filter = file['Link Artigo'].loc[file.Ligante.isin([ligand_serie])]"
   ]
  },
  {
   "cell_type": "code",
   "execution_count": null,
   "metadata": {},
   "outputs": [],
   "source": [
    "reaction_serie = pd.Series(reaction_tp)\n",
    "reaction_filter = file['Link Artigo'].loc[file.Reação.isin([reaction_serie])]"
   ]
  },
  {
   "cell_type": "code",
   "execution_count": null,
   "metadata": {},
   "outputs": [],
   "source": [
    "journal_serie = pd.Series(journal_tp)\n",
    "journal_filter = file['Link Artigo'].loc[file.Revista.isin([journal_serie])]"
   ]
  },
  {
   "cell_type": "code",
   "execution_count": null,
   "metadata": {},
   "outputs": [],
   "source": [
    "year_serie = pd.Series(year_tp)\n",
    "year_filter = file['Link Artigo'].loc[file.Ligante.isin([year_serie])]"
   ]
  },
  {
   "attachments": {},
   "cell_type": "markdown",
   "metadata": {},
   "source": [
    "Filtering the data that fit in the users' applied filter previously"
   ]
  },
  {
   "cell_type": "code",
   "execution_count": null,
   "metadata": {},
   "outputs": [],
   "source": [
    "print(file.groupby([metal_filter, ligand_filter, reaction_filter, journal_filter, year_filter]))"
   ]
  }
 ],
 "metadata": {
  "kernelspec": {
   "display_name": "Python 3",
   "language": "python",
   "name": "python3"
  },
  "language_info": {
   "codemirror_mode": {
    "name": "ipython",
    "version": 3
   },
   "file_extension": ".py",
   "mimetype": "text/x-python",
   "name": "python",
   "nbconvert_exporter": "python",
   "pygments_lexer": "ipython3",
   "version": "3.11.0"
  },
  "orig_nbformat": 4,
  "vscode": {
   "interpreter": {
    "hash": "52634da84371cba311ea128a5ea7cdc41ff074b781779e754b270ff9f8153cee"
   }
  }
 },
 "nbformat": 4,
 "nbformat_minor": 2
}
